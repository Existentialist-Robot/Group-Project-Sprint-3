{
  "nbformat": 4,
  "nbformat_minor": 0,
  "metadata": {
    "colab": {
      "name": "lime_cactus_model.ipynb",
      "provenance": [],
      "include_colab_link": true
    },
    "kernelspec": {
      "name": "python3",
      "display_name": "Python 3"
    },
    "widgets": {
      "application/vnd.jupyter.widget-state+json": {
        "1e10eebee6d14dd0b4d1b5f8fb025c0e": {
          "model_module": "@jupyter-widgets/controls",
          "model_name": "HBoxModel",
          "state": {
            "_view_name": "HBoxView",
            "_dom_classes": [],
            "_model_name": "HBoxModel",
            "_view_module": "@jupyter-widgets/controls",
            "_model_module_version": "1.5.0",
            "_view_count": null,
            "_view_module_version": "1.5.0",
            "box_style": "",
            "layout": "IPY_MODEL_27ffa63c457c4d90896acd290f751658",
            "_model_module": "@jupyter-widgets/controls",
            "children": [
              "IPY_MODEL_db8e6d4a03a544cb886136568cde7362",
              "IPY_MODEL_6ea72103d4ee4141a6db5485aa144d1c"
            ]
          }
        },
        "27ffa63c457c4d90896acd290f751658": {
          "model_module": "@jupyter-widgets/base",
          "model_name": "LayoutModel",
          "state": {
            "_view_name": "LayoutView",
            "grid_template_rows": null,
            "right": null,
            "justify_content": null,
            "_view_module": "@jupyter-widgets/base",
            "overflow": null,
            "_model_module_version": "1.2.0",
            "_view_count": null,
            "flex_flow": null,
            "width": null,
            "min_width": null,
            "border": null,
            "align_items": null,
            "bottom": null,
            "_model_module": "@jupyter-widgets/base",
            "top": null,
            "grid_column": null,
            "overflow_y": null,
            "overflow_x": null,
            "grid_auto_flow": null,
            "grid_area": null,
            "grid_template_columns": null,
            "flex": null,
            "_model_name": "LayoutModel",
            "justify_items": null,
            "grid_row": null,
            "max_height": null,
            "align_content": null,
            "visibility": null,
            "align_self": null,
            "height": null,
            "min_height": null,
            "padding": null,
            "grid_auto_rows": null,
            "grid_gap": null,
            "max_width": null,
            "order": null,
            "_view_module_version": "1.2.0",
            "grid_template_areas": null,
            "object_position": null,
            "object_fit": null,
            "grid_auto_columns": null,
            "margin": null,
            "display": null,
            "left": null
          }
        },
        "db8e6d4a03a544cb886136568cde7362": {
          "model_module": "@jupyter-widgets/controls",
          "model_name": "IntProgressModel",
          "state": {
            "_view_name": "ProgressView",
            "style": "IPY_MODEL_39a3c67607364042911c25fd56930d83",
            "_dom_classes": [],
            "description": "100%",
            "_model_name": "IntProgressModel",
            "bar_style": "success",
            "max": 1000,
            "_view_module": "@jupyter-widgets/controls",
            "_model_module_version": "1.5.0",
            "value": 1000,
            "_view_count": null,
            "_view_module_version": "1.5.0",
            "orientation": "horizontal",
            "min": 0,
            "description_tooltip": null,
            "_model_module": "@jupyter-widgets/controls",
            "layout": "IPY_MODEL_60fb9132d8024352b358930602a151a0"
          }
        },
        "6ea72103d4ee4141a6db5485aa144d1c": {
          "model_module": "@jupyter-widgets/controls",
          "model_name": "HTMLModel",
          "state": {
            "_view_name": "HTMLView",
            "style": "IPY_MODEL_0f9f3d5ba60c499892ab1b15932e6580",
            "_dom_classes": [],
            "description": "",
            "_model_name": "HTMLModel",
            "placeholder": "​",
            "_view_module": "@jupyter-widgets/controls",
            "_model_module_version": "1.5.0",
            "value": " 1000/1000 [00:25&lt;00:00, 39.37it/s]",
            "_view_count": null,
            "_view_module_version": "1.5.0",
            "description_tooltip": null,
            "_model_module": "@jupyter-widgets/controls",
            "layout": "IPY_MODEL_1712fb2e41ce49c7ba4612987937b5f1"
          }
        },
        "39a3c67607364042911c25fd56930d83": {
          "model_module": "@jupyter-widgets/controls",
          "model_name": "ProgressStyleModel",
          "state": {
            "_view_name": "StyleView",
            "_model_name": "ProgressStyleModel",
            "description_width": "initial",
            "_view_module": "@jupyter-widgets/base",
            "_model_module_version": "1.5.0",
            "_view_count": null,
            "_view_module_version": "1.2.0",
            "bar_color": null,
            "_model_module": "@jupyter-widgets/controls"
          }
        },
        "60fb9132d8024352b358930602a151a0": {
          "model_module": "@jupyter-widgets/base",
          "model_name": "LayoutModel",
          "state": {
            "_view_name": "LayoutView",
            "grid_template_rows": null,
            "right": null,
            "justify_content": null,
            "_view_module": "@jupyter-widgets/base",
            "overflow": null,
            "_model_module_version": "1.2.0",
            "_view_count": null,
            "flex_flow": null,
            "width": null,
            "min_width": null,
            "border": null,
            "align_items": null,
            "bottom": null,
            "_model_module": "@jupyter-widgets/base",
            "top": null,
            "grid_column": null,
            "overflow_y": null,
            "overflow_x": null,
            "grid_auto_flow": null,
            "grid_area": null,
            "grid_template_columns": null,
            "flex": null,
            "_model_name": "LayoutModel",
            "justify_items": null,
            "grid_row": null,
            "max_height": null,
            "align_content": null,
            "visibility": null,
            "align_self": null,
            "height": null,
            "min_height": null,
            "padding": null,
            "grid_auto_rows": null,
            "grid_gap": null,
            "max_width": null,
            "order": null,
            "_view_module_version": "1.2.0",
            "grid_template_areas": null,
            "object_position": null,
            "object_fit": null,
            "grid_auto_columns": null,
            "margin": null,
            "display": null,
            "left": null
          }
        },
        "0f9f3d5ba60c499892ab1b15932e6580": {
          "model_module": "@jupyter-widgets/controls",
          "model_name": "DescriptionStyleModel",
          "state": {
            "_view_name": "StyleView",
            "_model_name": "DescriptionStyleModel",
            "description_width": "",
            "_view_module": "@jupyter-widgets/base",
            "_model_module_version": "1.5.0",
            "_view_count": null,
            "_view_module_version": "1.2.0",
            "_model_module": "@jupyter-widgets/controls"
          }
        },
        "1712fb2e41ce49c7ba4612987937b5f1": {
          "model_module": "@jupyter-widgets/base",
          "model_name": "LayoutModel",
          "state": {
            "_view_name": "LayoutView",
            "grid_template_rows": null,
            "right": null,
            "justify_content": null,
            "_view_module": "@jupyter-widgets/base",
            "overflow": null,
            "_model_module_version": "1.2.0",
            "_view_count": null,
            "flex_flow": null,
            "width": null,
            "min_width": null,
            "border": null,
            "align_items": null,
            "bottom": null,
            "_model_module": "@jupyter-widgets/base",
            "top": null,
            "grid_column": null,
            "overflow_y": null,
            "overflow_x": null,
            "grid_auto_flow": null,
            "grid_area": null,
            "grid_template_columns": null,
            "flex": null,
            "_model_name": "LayoutModel",
            "justify_items": null,
            "grid_row": null,
            "max_height": null,
            "align_content": null,
            "visibility": null,
            "align_self": null,
            "height": null,
            "min_height": null,
            "padding": null,
            "grid_auto_rows": null,
            "grid_gap": null,
            "max_width": null,
            "order": null,
            "_view_module_version": "1.2.0",
            "grid_template_areas": null,
            "object_position": null,
            "object_fit": null,
            "grid_auto_columns": null,
            "margin": null,
            "display": null,
            "left": null
          }
        }
      }
    }
  },
  "cells": [
    {
      "cell_type": "markdown",
      "metadata": {
        "id": "view-in-github",
        "colab_type": "text"
      },
      "source": [
        "<a href=\"https://colab.research.google.com/github/minerva-spring-pds/Group-Project-Sprint-3/blob/master/lime_cactus_model.ipynb\" target=\"_parent\"><img src=\"https://colab.research.google.com/assets/colab-badge.svg\" alt=\"Open In Colab\"/></a>"
      ]
    },
    {
      "cell_type": "code",
      "metadata": {
        "id": "VSD0DYmJQPi5",
        "colab_type": "code",
        "outputId": "acc2dab0-94d2-44eb-f465-184a43dd5551",
        "colab": {
          "base_uri": "https://localhost:8080/",
          "height": 34
        }
      },
      "source": [
        "## connecting notebook to google drive\n",
        "# click on the URL, give permissions and copy and paste the authorisation code to connect\n",
        "from google.colab import drive\n",
        "drive.mount('/gdrive')"
      ],
      "execution_count": 1,
      "outputs": [
        {
          "output_type": "stream",
          "text": [
            "Mounted at /gdrive\n"
          ],
          "name": "stdout"
        }
      ]
    },
    {
      "cell_type": "markdown",
      "metadata": {
        "id": "XyPNbCnOlLZO",
        "colab_type": "text"
      },
      "source": [
        "# Local Interpretable Model-Agnostic Explanations (LIME) for Cactus Classification Model (Soren)\n",
        "\n",
        "This implementation of LIME was taken largely from [Marco Tulio Correia Ribeiro's tutorial](https://github.com/marcotcr/lime/blob/master/doc/notebooks/Tutorial%20-%20Image%20Classification%20Keras.ipynb?fbclid=IwAR2zmS6xUc9zbd2esk3pGc1dWxR8adF6IEXjx-q6Yq-CJ9KGPHO_0Y7XBmE).\n",
        "\n",
        "This LIME implementation is performed on a convolutional neural network model for cactus classification using [Kaggle's cactus dataset](https://www.kaggle.com/c/aerial-cactus-identification/data)."
      ]
    },
    {
      "cell_type": "markdown",
      "metadata": {
        "id": "nk4qgAMEQVR2",
        "colab_type": "text"
      },
      "source": [
        "## Importing Libraries"
      ]
    },
    {
      "cell_type": "code",
      "metadata": {
        "id": "OFzdmnAsA0yZ",
        "colab_type": "code",
        "outputId": "14bbfc48-00d6-429d-d009-30a6e8dd89a5",
        "colab": {
          "base_uri": "https://localhost:8080/",
          "height": 51
        }
      },
      "source": [
        "!pip install lime\n",
        "\n",
        "from keras.applications import inception_v3 as inc_net\n",
        "from keras.preprocessing import image\n",
        "from lime import lime_image\n",
        "import pandas as pd\n",
        "import matplotlib.pyplot as plt\n",
        "import numpy as np\n",
        "import glob\n",
        "import imageio\n",
        "import os\n",
        "import PIL\n",
        "import cv2\n",
        "\n",
        "%tensorflow_version 1.x\n",
        "\n",
        "import keras\n",
        "import tensorflow as tf\n",
        "from keras.layers import Input, Dense, Conv2D, UpSampling2D, MaxPool2D, Flatten, BatchNormalization\n",
        "from keras.models import Model, load_model"
      ],
      "execution_count": 2,
      "outputs": [
        {
          "output_type": "stream",
          "text": [
            "TensorFlow 1.x selected.\n"
          ],
          "name": "stdout"
        },
        {
          "output_type": "stream",
          "text": [
            "Using TensorFlow backend.\n"
          ],
          "name": "stderr"
        }
      ]
    },
    {
      "cell_type": "markdown",
      "metadata": {
        "id": "XAX_DB_4QT5k",
        "colab_type": "text"
      },
      "source": [
        "## Importing Model"
      ]
    },
    {
      "cell_type": "code",
      "metadata": {
        "id": "AN5ArR5PQj8c",
        "colab_type": "code",
        "colab": {}
      },
      "source": [
        "# make sure to place the folder in the main section of your google drive to connect to this folder\n",
        "os.chdir('/gdrive/My Drive/Cactus')"
      ],
      "execution_count": 0,
      "outputs": []
    },
    {
      "cell_type": "code",
      "metadata": {
        "id": "vWfmLwgl2hLz",
        "colab_type": "code",
        "colab": {}
      },
      "source": [
        "train_label = pd.read_csv('train.csv')\n",
        "sample_submission = pd.read_csv('sample_submission.csv')"
      ],
      "execution_count": 0,
      "outputs": []
    },
    {
      "cell_type": "code",
      "metadata": {
        "id": "Rjn7fEpNAf4j",
        "colab_type": "code",
        "colab": {}
      },
      "source": [
        "## load numpy arrays below rather than the images above for faster loading\n",
        "\n",
        "train_img = np.load('train_img.npy')\n",
        "test_img = np.load('test_img.npy')\n",
        "train_img_enc = np.load('train_img_enc.npy')\n",
        "train_data = np.load('train_data.npy')\n",
        "eval_data = np.load('eval_data.npy')"
      ],
      "execution_count": 0,
      "outputs": []
    },
    {
      "cell_type": "code",
      "metadata": {
        "id": "9YeZDyCpoTXM",
        "colab_type": "code",
        "colab": {}
      },
      "source": [
        "def fc(enco):\n",
        "    flat = Flatten()(enco)\n",
        "    den = Dense(128, activation='relu')(flat)\n",
        "    out = Dense(2, activation='softmax')(den)\n",
        "    return out"
      ],
      "execution_count": 0,
      "outputs": []
    },
    {
      "cell_type": "code",
      "metadata": {
        "id": "qMilBvgS6JmU",
        "colab_type": "code",
        "colab": {}
      },
      "source": [
        "def encoder_2(input_img_2):\n",
        "  encoded_2 = Conv2D(filters = 256, kernel_size = (3, 3), activation='relu', padding='same')(input_img_2)\n",
        "  encoded_2 = Conv2D(filters = 256, kernel_size = (3, 3), activation='relu', padding='same')(encoded_2)\n",
        "  encoded_2 = MaxPool2D(pool_size = (2, 2), padding='same', strides=2)(encoded_2)\n",
        "  print(encoded_2.shape)\n",
        "\n",
        "  # Conv2 #\n",
        "  encoded_2 = Conv2D(filters = 128, kernel_size = (3, 3), activation='relu', padding='same')(encoded_2)\n",
        "  encoded_2 = Conv2D(filters = 128, kernel_size = (3, 3), activation='relu', padding='same')(encoded_2)\n",
        "  encoded_2 = MaxPool2D(pool_size = (2, 2), padding='same', strides=2)(encoded_2)\n",
        "  print(encoded_2.shape)\n",
        "\n",
        "  # Conv3 #\n",
        "  encoded_2 = Conv2D(filters = 64, kernel_size = (3, 3), activation='relu', padding='same')(encoded_2)\n",
        "  encoded_2 = Conv2D(filters = 64, kernel_size = (3, 3), activation='relu', padding='same')(encoded_2)\n",
        "  encoded_2 = MaxPool2D(pool_size = (2, 2), padding='same', strides=2)(encoded_2)\n",
        "  print(encoded_2.shape)\n",
        "  return encoded_2"
      ],
      "execution_count": 0,
      "outputs": []
    },
    {
      "cell_type": "code",
      "metadata": {
        "id": "t_uZHrgUoTU-",
        "colab_type": "code",
        "outputId": "1c1aa0d4-2ebb-4e50-852b-13b5de78af91",
        "colab": {
          "base_uri": "https://localhost:8080/",
          "height": 173
        }
      },
      "source": [
        "input_img = Input(shape = (32, 32, 3))\n",
        "encode = encoder_2(input_img)\n",
        "full_model = Model(input_img,fc(encode))"
      ],
      "execution_count": 8,
      "outputs": [
        {
          "output_type": "stream",
          "text": [
            "WARNING:tensorflow:From /tensorflow-1.15.2/python3.6/tensorflow_core/python/ops/resource_variable_ops.py:1630: calling BaseResourceVariable.__init__ (from tensorflow.python.ops.resource_variable_ops) with constraint is deprecated and will be removed in a future version.\n",
            "Instructions for updating:\n",
            "If using Keras pass *_constraint arguments to layers.\n",
            "WARNING:tensorflow:From /usr/local/lib/python3.6/dist-packages/keras/backend/tensorflow_backend.py:4070: The name tf.nn.max_pool is deprecated. Please use tf.nn.max_pool2d instead.\n",
            "\n",
            "(?, 16, 16, 256)\n",
            "(?, 8, 8, 128)\n",
            "(?, 4, 4, 64)\n"
          ],
          "name": "stdout"
        }
      ]
    },
    {
      "cell_type": "code",
      "metadata": {
        "id": "STgHP_Clp9v1",
        "colab_type": "code",
        "colab": {}
      },
      "source": [
        "full_model.load_weights('classification_model.h5')"
      ],
      "execution_count": 0,
      "outputs": []
    },
    {
      "cell_type": "code",
      "metadata": {
        "id": "PRfe8s3Lx7FJ",
        "colab_type": "code",
        "outputId": "8ef3a851-7b75-491a-daaa-b1ff3a763689",
        "colab": {
          "base_uri": "https://localhost:8080/",
          "height": 289
        }
      },
      "source": [
        "full_model.weights"
      ],
      "execution_count": 11,
      "outputs": [
        {
          "output_type": "execute_result",
          "data": {
            "text/plain": [
              "[<tf.Variable 'conv2d_1/kernel:0' shape=(3, 3, 3, 256) dtype=float32>,\n",
              " <tf.Variable 'conv2d_1/bias:0' shape=(256,) dtype=float32>,\n",
              " <tf.Variable 'conv2d_2/kernel:0' shape=(3, 3, 256, 256) dtype=float32>,\n",
              " <tf.Variable 'conv2d_2/bias:0' shape=(256,) dtype=float32>,\n",
              " <tf.Variable 'conv2d_3/kernel:0' shape=(3, 3, 256, 128) dtype=float32>,\n",
              " <tf.Variable 'conv2d_3/bias:0' shape=(128,) dtype=float32>,\n",
              " <tf.Variable 'conv2d_4/kernel:0' shape=(3, 3, 128, 128) dtype=float32>,\n",
              " <tf.Variable 'conv2d_4/bias:0' shape=(128,) dtype=float32>,\n",
              " <tf.Variable 'conv2d_5/kernel:0' shape=(3, 3, 128, 64) dtype=float32>,\n",
              " <tf.Variable 'conv2d_5/bias:0' shape=(64,) dtype=float32>,\n",
              " <tf.Variable 'conv2d_6/kernel:0' shape=(3, 3, 64, 64) dtype=float32>,\n",
              " <tf.Variable 'conv2d_6/bias:0' shape=(64,) dtype=float32>,\n",
              " <tf.Variable 'dense_1/kernel:0' shape=(1024, 128) dtype=float32>,\n",
              " <tf.Variable 'dense_1/bias:0' shape=(128,) dtype=float32>,\n",
              " <tf.Variable 'dense_2/kernel:0' shape=(128, 2) dtype=float32>,\n",
              " <tf.Variable 'dense_2/bias:0' shape=(2,) dtype=float32>]"
            ]
          },
          "metadata": {
            "tags": []
          },
          "execution_count": 11
        }
      ]
    },
    {
      "cell_type": "markdown",
      "metadata": {
        "id": "mobCUIe_QeHv",
        "colab_type": "text"
      },
      "source": [
        "## Preprocessing data for LIME explanation"
      ]
    },
    {
      "cell_type": "code",
      "metadata": {
        "id": "mq2d5k2gbPNU",
        "colab_type": "code",
        "colab": {}
      },
      "source": [
        "def transform_img_fn(path_list):\n",
        "    out = []\n",
        "    for img_path in path_list:\n",
        "        img = image.load_img(img_path, target_size=(32, 32))\n",
        "        x = image.img_to_array(img)\n",
        "        x = np.expand_dims(x, axis=0)\n",
        "        x = inc_net.preprocess_input(x)\n",
        "        out.append(x)\n",
        "    return np.vstack(out)"
      ],
      "execution_count": 0,
      "outputs": []
    },
    {
      "cell_type": "code",
      "metadata": {
        "id": "h7tYOBvFbWZ-",
        "colab_type": "code",
        "outputId": "b9041999-4a10-4e09-95f9-fc4d9ff19278",
        "colab": {
          "base_uri": "https://localhost:8080/",
          "height": 283
        }
      },
      "source": [
        "images = transform_img_fn(['train/fff059ecc91b30be5745e8b81111dc7b.jpg'])\n",
        "\n",
        "plt.imshow(images[0] / 2 + 0.5)\n",
        "preds = full_model.predict(images)\n",
        "print(preds)"
      ],
      "execution_count": 45,
      "outputs": [
        {
          "output_type": "stream",
          "text": [
            "[[0.45229775 0.5477022 ]]\n"
          ],
          "name": "stdout"
        },
        {
          "output_type": "display_data",
          "data": {
            "image/png": "[encoded data removed]",
            "text/plain": [
              "<Figure size 432x288 with 1 Axes>"
            ]
          },
          "metadata": {
            "tags": [],
            "needs_background": "light"
          }
        }
      ]
    },
    {
      "cell_type": "markdown",
      "metadata": {
        "id": "fUkgWOiNQhqB",
        "colab_type": "text"
      },
      "source": [
        "## LIME explanation"
      ]
    },
    {
      "cell_type": "code",
      "metadata": {
        "id": "Nl0UN9u6Uqsm",
        "colab_type": "code",
        "colab": {}
      },
      "source": [
        "explainer = lime_image.LimeImageExplainer()"
      ],
      "execution_count": 0,
      "outputs": []
    },
    {
      "cell_type": "code",
      "metadata": {
        "id": "61xqgzNZU6Yq",
        "colab_type": "code",
        "outputId": "b35abaf6-a2a2-480b-a2f4-f3de559dd383",
        "colab": {
          "base_uri": "https://localhost:8080/",
          "height": 66,
          "referenced_widgets": [
            "1e10eebee6d14dd0b4d1b5f8fb025c0e",
            "27ffa63c457c4d90896acd290f751658",
            "db8e6d4a03a544cb886136568cde7362",
            "6ea72103d4ee4141a6db5485aa144d1c",
            "39a3c67607364042911c25fd56930d83",
            "60fb9132d8024352b358930602a151a0",
            "0f9f3d5ba60c499892ab1b15932e6580",
            "1712fb2e41ce49c7ba4612987937b5f1"
          ]
        }
      },
      "source": [
        "explanation = explainer.explain_instance(images[0], full_model.predict, top_labels=5, hide_color=0, num_samples=1000)"
      ],
      "execution_count": 46,
      "outputs": [
        {
          "output_type": "display_data",
          "data": {
            "application/vnd.jupyter.widget-view+json": {
              "model_id": "1e10eebee6d14dd0b4d1b5f8fb025c0e",
              "version_minor": 0,
              "version_major": 2
            },
            "text/plain": [
              "HBox(children=(IntProgress(value=0, max=1000), HTML(value='')))"
            ]
          },
          "metadata": {
            "tags": []
          }
        },
        {
          "output_type": "stream",
          "text": [
            "\n"
          ],
          "name": "stdout"
        }
      ]
    },
    {
      "cell_type": "code",
      "metadata": {
        "id": "dTcl4wVWGI-x",
        "colab_type": "code",
        "colab": {}
      },
      "source": [
        "from skimage.segmentation import mark_boundaries"
      ],
      "execution_count": 0,
      "outputs": []
    },
    {
      "cell_type": "code",
      "metadata": {
        "id": "dyfketamGJ62",
        "colab_type": "code",
        "outputId": "9007acd8-46a6-43a8-d185-19e7c27f490a",
        "colab": {
          "base_uri": "https://localhost:8080/",
          "height": 283
        }
      },
      "source": [
        "temp, mask = explanation.get_image_and_mask(1, positive_only=True, num_features=5, hide_rest=True)\n",
        "plt.imshow(mark_boundaries(temp / 2 + 0.5, mask))"
      ],
      "execution_count": 41,
      "outputs": [
        {
          "output_type": "execute_result",
          "data": {
            "text/plain": [
              "<matplotlib.image.AxesImage at 0x7f030e6eddd8>"
            ]
          },
          "metadata": {
            "tags": []
          },
          "execution_count": 41
        },
        {
          "output_type": "display_data",
          "data": {
            "image/png": "[encoded data removed]",
            "text/plain": [
              "<Figure size 432x288 with 1 Axes>"
            ]
          },
          "metadata": {
            "tags": [],
            "needs_background": "light"
          }
        }
      ]
    },
    {
      "cell_type": "code",
      "metadata": {
        "id": "zfWqvpvYGSBy",
        "colab_type": "code",
        "outputId": "bfebb3f5-75d7-4364-a00a-e4b3bf2109be",
        "colab": {
          "base_uri": "https://localhost:8080/",
          "height": 283
        }
      },
      "source": [
        "temp, mask = explanation.get_image_and_mask(1, positive_only=True, num_features=5, hide_rest=False)\n",
        "plt.imshow(mark_boundaries(temp / 2 + 0.5, mask))"
      ],
      "execution_count": 42,
      "outputs": [
        {
          "output_type": "execute_result",
          "data": {
            "text/plain": [
              "<matplotlib.image.AxesImage at 0x7f03080e9ef0>"
            ]
          },
          "metadata": {
            "tags": []
          },
          "execution_count": 42
        },
        {
          "output_type": "display_data",
          "data": {
            "image/png": "[encoded data removed]",
            "text/plain": [
              "<Figure size 432x288 with 1 Axes>"
            ]
          },
          "metadata": {
            "tags": [],
            "needs_background": "light"
          }
        }
      ]
    },
    {
      "cell_type": "code",
      "metadata": {
        "id": "d2hah-0lGSoj",
        "colab_type": "code",
        "outputId": "c96fad42-14e7-40d0-f77a-45ba5c9d0dca",
        "colab": {
          "base_uri": "https://localhost:8080/",
          "height": 283
        }
      },
      "source": [
        "temp, mask = explanation.get_image_and_mask(1, positive_only=False, num_features=10, hide_rest=False)\n",
        "plt.imshow(mark_boundaries(temp / 2 + 0.5, mask))"
      ],
      "execution_count": 43,
      "outputs": [
        {
          "output_type": "execute_result",
          "data": {
            "text/plain": [
              "<matplotlib.image.AxesImage at 0x7f0308050c88>"
            ]
          },
          "metadata": {
            "tags": []
          },
          "execution_count": 43
        },
        {
          "output_type": "display_data",
          "data": {
            "image/png": "[encoded data removed]",
            "text/plain": [
              "<Figure size 432x288 with 1 Axes>"
            ]
          },
          "metadata": {
            "tags": [],
            "needs_background": "light"
          }
        }
      ]
    }
  ]
}